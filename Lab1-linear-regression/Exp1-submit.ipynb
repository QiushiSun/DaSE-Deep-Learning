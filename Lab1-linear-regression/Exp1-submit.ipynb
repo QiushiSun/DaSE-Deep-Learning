{
 "cells": [
  {
   "cell_type": "markdown",
   "metadata": {},
   "source": [
    "# 深度学习 实验1\n",
    "\n",
    "本节课我们尝试实现简单的模型——线性回归，线性回归是最简单的模型\n",
    "\n",
    "$$\n",
    "\\hat y=w\\cdot x+b\n",
    "$$\n",
    "\n",
    "其中 $w,b$ 是需要训练的参数，在训练前，请以分布 $U(-0.1,0.1)$ 进行随机初始化\n",
    "\n",
    "损失函数取\n",
    "\n",
    "$$\n",
    "L=\\frac{1}{2}(\\hat y-y)^2\n",
    "$$\n",
    "\n",
    "使用随机梯度下降法，在每次迭代中随机取样本 $x,y$，按照下式进行迭代：\n",
    "\n",
    "$$\n",
    "w\\leftarrow w-\\eta\\frac{\\partial L}{\\partial w}\n",
    "$$\n",
    "$$\n",
    "b\\leftarrow b-\\eta\\frac{\\partial L}{\\partial b}\n",
    "$$\n",
    "\n",
    "其中学习率 $\\eta$ 请自行调节。"
   ]
  },
  {
   "cell_type": "markdown",
   "metadata": {},
   "source": [
    "## Task 1\n",
    "\n",
    "用代码实现线性回归模型，请不要调用 `sklearn` 等机器学习库。"
   ]
  },
  {
   "cell_type": "markdown",
   "metadata": {},
   "source": [
    "## Task 2\n",
    "\n",
    "读取数据文件 `train_data.csv` 和 `test_data.csv`，文件中列为 `label` 的表示标签，1 表示正例，0 表示负例，其余列为 $x$，取值均为 0 或 1。使用 `train_data.csv` 训练你的模型，并用 `test_data.csv` 进行测试，计算模型的准确率。"
   ]
  },
  {
   "cell_type": "markdown",
   "metadata": {},
   "source": [
    "## Task 3\n",
    "\n",
    "请尝试使用不同的学习率 $\\eta$ 进行测试，比较模型的效果，试分析 $\\eta$ 的大小对模型效果的影响。"
   ]
  },
  {
   "cell_type": "code",
   "execution_count": 4,
   "metadata": {},
   "outputs": [],
   "source": [
    "import numpy as np\n",
    "import pandas as pd\n",
    "import random\n",
    "import matplotlib \n",
    "import matplotlib.pyplot as plt\n",
    "# matplotlib.rcParams['font.sans-serif']=['SimHei']"
   ]
  },
  {
   "cell_type": "code",
   "execution_count": 5,
   "metadata": {},
   "outputs": [
    {
     "data": {
      "text/html": [
       "<div>\n",
       "<style scoped>\n",
       "    .dataframe tbody tr th:only-of-type {\n",
       "        vertical-align: middle;\n",
       "    }\n",
       "\n",
       "    .dataframe tbody tr th {\n",
       "        vertical-align: top;\n",
       "    }\n",
       "\n",
       "    .dataframe thead th {\n",
       "        text-align: right;\n",
       "    }\n",
       "</style>\n",
       "<table border=\"1\" class=\"dataframe\">\n",
       "  <thead>\n",
       "    <tr style=\"text-align: right;\">\n",
       "      <th></th>\n",
       "      <th>x00</th>\n",
       "      <th>x01</th>\n",
       "      <th>x02</th>\n",
       "      <th>x03</th>\n",
       "      <th>x04</th>\n",
       "      <th>x05</th>\n",
       "      <th>x06</th>\n",
       "      <th>x07</th>\n",
       "      <th>x08</th>\n",
       "      <th>x09</th>\n",
       "      <th>...</th>\n",
       "      <th>x91</th>\n",
       "      <th>x92</th>\n",
       "      <th>x93</th>\n",
       "      <th>x94</th>\n",
       "      <th>x95</th>\n",
       "      <th>x96</th>\n",
       "      <th>x97</th>\n",
       "      <th>x98</th>\n",
       "      <th>x99</th>\n",
       "      <th>label</th>\n",
       "    </tr>\n",
       "  </thead>\n",
       "  <tbody>\n",
       "    <tr>\n",
       "      <th>0</th>\n",
       "      <td>0</td>\n",
       "      <td>1</td>\n",
       "      <td>0</td>\n",
       "      <td>0</td>\n",
       "      <td>0</td>\n",
       "      <td>0</td>\n",
       "      <td>0</td>\n",
       "      <td>0</td>\n",
       "      <td>0</td>\n",
       "      <td>0</td>\n",
       "      <td>...</td>\n",
       "      <td>1</td>\n",
       "      <td>0</td>\n",
       "      <td>0</td>\n",
       "      <td>0</td>\n",
       "      <td>0</td>\n",
       "      <td>0</td>\n",
       "      <td>0</td>\n",
       "      <td>0</td>\n",
       "      <td>0</td>\n",
       "      <td>1</td>\n",
       "    </tr>\n",
       "    <tr>\n",
       "      <th>1</th>\n",
       "      <td>0</td>\n",
       "      <td>0</td>\n",
       "      <td>0</td>\n",
       "      <td>0</td>\n",
       "      <td>0</td>\n",
       "      <td>0</td>\n",
       "      <td>0</td>\n",
       "      <td>0</td>\n",
       "      <td>0</td>\n",
       "      <td>0</td>\n",
       "      <td>...</td>\n",
       "      <td>1</td>\n",
       "      <td>0</td>\n",
       "      <td>0</td>\n",
       "      <td>0</td>\n",
       "      <td>0</td>\n",
       "      <td>0</td>\n",
       "      <td>0</td>\n",
       "      <td>0</td>\n",
       "      <td>1</td>\n",
       "      <td>1</td>\n",
       "    </tr>\n",
       "    <tr>\n",
       "      <th>2</th>\n",
       "      <td>0</td>\n",
       "      <td>1</td>\n",
       "      <td>0</td>\n",
       "      <td>0</td>\n",
       "      <td>0</td>\n",
       "      <td>0</td>\n",
       "      <td>0</td>\n",
       "      <td>0</td>\n",
       "      <td>0</td>\n",
       "      <td>0</td>\n",
       "      <td>...</td>\n",
       "      <td>1</td>\n",
       "      <td>0</td>\n",
       "      <td>0</td>\n",
       "      <td>0</td>\n",
       "      <td>0</td>\n",
       "      <td>0</td>\n",
       "      <td>0</td>\n",
       "      <td>0</td>\n",
       "      <td>0</td>\n",
       "      <td>1</td>\n",
       "    </tr>\n",
       "    <tr>\n",
       "      <th>3</th>\n",
       "      <td>0</td>\n",
       "      <td>0</td>\n",
       "      <td>0</td>\n",
       "      <td>0</td>\n",
       "      <td>0</td>\n",
       "      <td>0</td>\n",
       "      <td>0</td>\n",
       "      <td>0</td>\n",
       "      <td>0</td>\n",
       "      <td>0</td>\n",
       "      <td>...</td>\n",
       "      <td>1</td>\n",
       "      <td>0</td>\n",
       "      <td>0</td>\n",
       "      <td>0</td>\n",
       "      <td>0</td>\n",
       "      <td>0</td>\n",
       "      <td>0</td>\n",
       "      <td>0</td>\n",
       "      <td>0</td>\n",
       "      <td>1</td>\n",
       "    </tr>\n",
       "    <tr>\n",
       "      <th>4</th>\n",
       "      <td>0</td>\n",
       "      <td>0</td>\n",
       "      <td>0</td>\n",
       "      <td>0</td>\n",
       "      <td>0</td>\n",
       "      <td>0</td>\n",
       "      <td>0</td>\n",
       "      <td>0</td>\n",
       "      <td>0</td>\n",
       "      <td>0</td>\n",
       "      <td>...</td>\n",
       "      <td>1</td>\n",
       "      <td>0</td>\n",
       "      <td>0</td>\n",
       "      <td>0</td>\n",
       "      <td>0</td>\n",
       "      <td>0</td>\n",
       "      <td>0</td>\n",
       "      <td>0</td>\n",
       "      <td>0</td>\n",
       "      <td>1</td>\n",
       "    </tr>\n",
       "  </tbody>\n",
       "</table>\n",
       "<p>5 rows × 101 columns</p>\n",
       "</div>"
      ],
      "text/plain": [
       "   x00  x01  x02  x03  x04  x05  x06  x07  x08  x09  ...  x91  x92  x93  x94  \\\n",
       "0    0    1    0    0    0    0    0    0    0    0  ...    1    0    0    0   \n",
       "1    0    0    0    0    0    0    0    0    0    0  ...    1    0    0    0   \n",
       "2    0    1    0    0    0    0    0    0    0    0  ...    1    0    0    0   \n",
       "3    0    0    0    0    0    0    0    0    0    0  ...    1    0    0    0   \n",
       "4    0    0    0    0    0    0    0    0    0    0  ...    1    0    0    0   \n",
       "\n",
       "   x95  x96  x97  x98  x99  label  \n",
       "0    0    0    0    0    0      1  \n",
       "1    0    0    0    0    1      1  \n",
       "2    0    0    0    0    0      1  \n",
       "3    0    0    0    0    0      1  \n",
       "4    0    0    0    0    0      1  \n",
       "\n",
       "[5 rows x 101 columns]"
      ]
     },
     "execution_count": 5,
     "metadata": {},
     "output_type": "execute_result"
    }
   ],
   "source": [
    "df=pd.read_csv('train_data.csv',\n",
    "#                header=None,\n",
    "              )\n",
    "df.head(5)     #看看数据长什么样       "
   ]
  },
  {
   "cell_type": "markdown",
   "metadata": {},
   "source": [
    "$\\color{blue}{\\textit Task1 \\; Solution:}$"
   ]
  },
  {
   "cell_type": "markdown",
   "metadata": {},
   "source": [
    "由 $\\hat y=w\\cdot x+b$ 和 损失函数表达式 $L=\\frac{1}{2}(\\hat y-y)^2$\n",
    "\n",
    "**梯度表达式：**\n",
    "\n",
    "1. $\\frac{\\partial L}{\\partial w_{i}} = \\frac{\\partial L}{\\partial \\hat{y}}\\frac{\\partial \\hat{y}}{\\partial w_{i}} = (\\hat{y}-y)x_{i}$\n",
    "2. $\\frac{\\partial L}{\\partial b} = \\frac{\\partial L}{\\partial \\hat{y}}\\frac{\\partial \\hat{y}}{\\partial b} = (\\hat{y}-y)$\n",
    "\n",
    "**梯度下降法更新规则为：**\n",
    "\n",
    "\n",
    "1. $w_{i}\\leftarrow w_{i}-\\eta\\frac{\\partial L}{\\partial w_{i}}$\n",
    "2. $b\\leftarrow b-\\eta\\frac{\\partial L}{\\partial b}$\n",
    "\n",
    "超参数$\\eta$为学习率(Learning Rate)"
   ]
  },
  {
   "cell_type": "code",
   "execution_count": 6,
   "metadata": {},
   "outputs": [],
   "source": [
    "train_data_label = df.loc[:,'label'] #选中训练数据标签\n",
    "train_data = df.iloc[:,:100] #选中训练数据"
   ]
  },
  {
   "cell_type": "code",
   "execution_count": 7,
   "metadata": {},
   "outputs": [
    {
     "name": "stdout",
     "output_type": "stream",
     "text": [
      "shape of training data: (603, 100)\n",
      "number of labels: 603\n"
     ]
    }
   ],
   "source": [
    "train_data = df.iloc[:,:100]\n",
    "train_data =np.matrix(train_data.values) \n",
    "weight = np.random.uniform(-0.1,0.1,100) #随机初始化权重\n",
    "weight = weight.reshape(100,1) #转化权重向量维度\n",
    "bias = np.random.randn(1) #偏置项\n",
    "print('shape of training data:',train_data.shape)\n",
    "# print(train_data)\n",
    "# print(train_data_label.shape)\n",
    "print('number of labels:',len(train_data_label))"
   ]
  },
  {
   "cell_type": "code",
   "execution_count": 8,
   "metadata": {},
   "outputs": [],
   "source": [
    "def predict_function(weight,sample,bias):\n",
    "    # 实现线性回归模型\n",
    "    pred = np.dot(sample,weight)+bias\n",
    "    return pred\n",
    "\n",
    "def compute_loss(weight,sample,truth,bias): \n",
    "    #计算单一样本损失\n",
    "    prediction = predict_function(weight,sample,bias)\n",
    "    loss = prediction-truth\n",
    "    return loss\n",
    "\n",
    "def compute_square_loss(weight,sample,truth,bias): \n",
    "    #计算单一样本平方损失\n",
    "    prediction = predict_function(weight,sample,bias)\n",
    "    loss = 0.5*(prediction-truth)**2\n",
    "    return loss\n",
    "\n",
    "def cal_gradient(weight,train_data,label,bias): \n",
    "    #bais和weight都要用到(y^hat-y)，对于bias可以直接使用这个梯度，对于权重向量\n",
    "    # 还需要乘上对应的样本元素\n",
    "    grad = compute_loss(weight,train_data,label,bias)\n",
    "    return grad\n",
    "\n",
    "def update_weight(weight,gradient,Xi):\n",
    "    # 更新权重，这里在传入参数时应一个个更新，最后让梯度乘以相应的特征元素即可\n",
    "    weight = weight - learning_rate * gradient *Xi\n",
    "    return weight\n",
    "\n",
    "def update_bias(bias,gradient):\n",
    "    # 更新偏置项，根据上述数学关系，直接使用梯度即可\n",
    "    bias = bias - learning_rate * gradient\n",
    "    return bias"
   ]
  },
  {
   "cell_type": "markdown",
   "metadata": {},
   "source": [
    "$\\color{blue}{\\textit Task2 \\; Solution:}$"
   ]
  },
  {
   "cell_type": "code",
   "execution_count": 9,
   "metadata": {},
   "outputs": [
    {
     "name": "stdout",
     "output_type": "stream",
     "text": [
      "round: 1 square loss: [[97.08523383]]\n",
      "round: 2 square loss: [[23.56208886]]\n",
      "round: 3 square loss: [[16.98626678]]\n",
      "round: 4 square loss: [[14.67924379]]\n",
      "round: 5 square loss: [[13.25461467]]\n",
      "round: 6 square loss: [[12.25131934]]\n",
      "round: 7 square loss: [[11.50177283]]\n",
      "round: 8 square loss: [[10.91558354]]\n",
      "round: 9 square loss: [[10.43966105]]\n",
      "round: 10 square loss: [[10.04164181]]\n",
      "round: 11 square loss: [[9.70109573]]\n",
      "round: 12 square loss: [[9.40462959]]\n",
      "round: 13 square loss: [[9.14310759]]\n",
      "round: 14 square loss: [[8.91004617]]\n",
      "round: 15 square loss: [[8.70066904]]\n"
     ]
    }
   ],
   "source": [
    "learning_rate = 0.001 #learning rate可以按需求调整\n",
    "\n",
    "num = len(train_data)\n",
    "# 这里实现随机梯度下降（SGD）和梯度下降（GD）\n",
    "\n",
    "# 看看loss的情况，使用梯度下降法进行测试（比较稳定）\n",
    "training_turns = 15\n",
    "\n",
    "SGD_training_turns = 1000\n",
    "\n",
    "for train in range(0,training_turns):# GD\n",
    "    loss = 0\n",
    "    #for train in range(0,SGD_training_turns): 随机梯度下降SGD\n",
    "    #sample=random.randrange(0,num) 随机抽取一个训练样本，把i替换为sample即可\n",
    "    for i in range(0,num):\n",
    "        grad=cal_gradient(weight,train_data[i],train_data_label[i],bias)\n",
    "        bias = update_bias(bias,grad)\n",
    "        loss += compute_square_loss(weight,train_data[i],train_data_label[i],bias)\n",
    "        for w in range(len(weight)):\n",
    "            gradient = np.dot(train_data[i,w],grad)\n",
    "            weight[w]=update_weight(weight[w],grad,train_data[i,w])\n",
    "    print('round:',train+1,'square loss:',loss)"
   ]
  },
  {
   "cell_type": "markdown",
   "metadata": {},
   "source": [
    "可以看到均方误差在不断减小，表示随着梯度下降算法的运行，模型正在慢慢收敛。"
   ]
  },
  {
   "cell_type": "code",
   "execution_count": 10,
   "metadata": {},
   "outputs": [
    {
     "data": {
      "image/png": "[encoded data removed]",
      "text/plain": [
       "<Figure size 432x288 with 1 Axes>"
      ]
     },
     "metadata": {
      "needs_background": "light"
     },
     "output_type": "display_data"
    }
   ],
   "source": [
    "# 查看收敛情况\n",
    "def loss_plot():\n",
    "    x=[1,2,3,4,5,6,7,8,9,10,11,12,13,14,15]\n",
    "    y=[57.74,14.29,11.31,10.54,10.02,9.58,9.21,8.88,8.59,8.33,8.10,7.89,7.70,7.53,7.37]\n",
    "    plt.plot(x,y)\n",
    "    plt.scatter(x,y)\n",
    "    plt.title('Training set performance')\n",
    "    plt.grid(linestyle='-.')\n",
    "    plt.xlabel('training round')\n",
    "    plt.ylabel('loss')\n",
    "    plt.show()\n",
    "    \n",
    "loss_plot()"
   ]
  },
  {
   "cell_type": "markdown",
   "metadata": {},
   "source": [
    "可以看到，我们的模型训练了15轮以后基本收敛了"
   ]
  },
  {
   "cell_type": "code",
   "execution_count": 11,
   "metadata": {},
   "outputs": [
    {
     "name": "stdout",
     "output_type": "stream",
     "text": [
      "[[0.27447848]]\n"
     ]
    }
   ],
   "source": [
    "print(bias) #检查一下数值是不是正确"
   ]
  },
  {
   "cell_type": "code",
   "execution_count": 14,
   "metadata": {},
   "outputs": [
    {
     "name": "stdout",
     "output_type": "stream",
     "text": [
      "[[0.43787553]]\n"
     ]
    }
   ],
   "source": [
    "print(np.dot(weight.T,weight))"
   ]
  },
  {
   "cell_type": "markdown",
   "metadata": {},
   "source": [
    "$\\color{blue}{\\Large 观察:}$ 这里其实可以发现，对目标函数 $\\hat y=w\\cdot x+b$ 的数值而言，主要的贡献是偏置项 $bias$，而与权重相关的部分 $w\\cdot x$ 对函数值本身的影响比较小，主要起到微调决策边界的作用。我在这个地方尝试了去掉 $bias$ 项，使用梯度下降方法进行多轮训练，结果远不如有偏置项（至少无法使用0.5作为简单的决策边界）。偏置项 $bias$ 的主要作用是让这个线性模型在向量空间中能有更多不同权重组合让损失函数最小化的可能性，而非使超平面必须通过原点。"
   ]
  },
  {
   "cell_type": "code",
   "execution_count": 148,
   "metadata": {},
   "outputs": [],
   "source": [
    "def get_acc(weight,sample,bias): #这个函数用来预测，决策边界设置为0.5\n",
    "    pred = np.dot(sample,weight)+bias\n",
    "    #print(pred)\n",
    "    if pred > 0.5:\n",
    "        return 1\n",
    "    else:\n",
    "        return 0"
   ]
  },
  {
   "cell_type": "code",
   "execution_count": 149,
   "metadata": {},
   "outputs": [
    {
     "name": "stdout",
     "output_type": "stream",
     "text": [
      "training set correct: 601\n",
      "training set accuracy: 0.9966832504145937\n"
     ]
    }
   ],
   "source": [
    "count = 0\n",
    "for i in range(0,num):\n",
    "    if get_acc(weight,train_data[i],bias) == train_data_label[i]:\n",
    "        #print(get_acc(weight,X[i],bias),y[i])\n",
    "        count+=1\n",
    "        \n",
    "print('training set correct:',count)\n",
    "\n",
    "print('training set accuracy:',count/num)"
   ]
  },
  {
   "cell_type": "markdown",
   "metadata": {},
   "source": [
    "训练集准确率还不错，模型已经收敛，但是模型的性能评判还是要取决于测试集，所以接下来我们看一下测试集的准确率"
   ]
  },
  {
   "cell_type": "code",
   "execution_count": 150,
   "metadata": {},
   "outputs": [],
   "source": [
    "df2=pd.read_csv('test_data.csv',\n",
    "#                header=None,\n",
    "               )\n",
    "df2.head(5)    \n",
    "\n",
    "test_data_label = df2.loc[:,'label']\n",
    "test_data = df2.iloc[:,:100]\n",
    "test_data = np.matrix(test_data.values)"
   ]
  },
  {
   "cell_type": "code",
   "execution_count": 151,
   "metadata": {},
   "outputs": [
    {
     "name": "stdout",
     "output_type": "stream",
     "text": [
      "test data total: 258\n",
      "test data correct: 257\n",
      "test data accuray: 0.9961240310077519\n"
     ]
    }
   ],
   "source": [
    "count = 0\n",
    "print('test data total:',len(test_data_label))\n",
    "for t in range(0,len(test_data_label)):\n",
    "    if get_acc(weight,test_data[t],bias) == test_data_label[t]:\n",
    "        #print(get_acc(weight,X[i],bias),y[i])\n",
    "        count+=1\n",
    "        \n",
    "print('test data correct:',count)\n",
    "print('test data accuray:',count/len(test_data_label))"
   ]
  },
  {
   "cell_type": "markdown",
   "metadata": {},
   "source": [
    "尝试了更多轮训练，发现257/258应该是这个线性分类器最好的性能了"
   ]
  },
  {
   "cell_type": "markdown",
   "metadata": {},
   "source": [
    "$\\color{blue}{\\textit Task3 \\; Solution:}$"
   ]
  },
  {
   "cell_type": "markdown",
   "metadata": {},
   "source": [
    "讨论学习率 $\\eta$ 对模型表现的影响，用梯度下降方法进行测试（使用梯度下降法跑所有数据，减少一点随机性，方便总结，一共训练15轮）"
   ]
  },
  {
   "cell_type": "code",
   "execution_count": 81,
   "metadata": {},
   "outputs": [
    {
     "name": "stdout",
     "output_type": "stream",
     "text": [
      "shape of training data: (603, 100)\n",
      "number of labels: 603\n",
      "learning rate: 0.01\n",
      "training set correct: 603\n",
      "training set accuracy: 1.0\n",
      "test data total: 258\n",
      "test data correct: 255\n",
      "test data accuray: 0.9883720930232558\n"
     ]
    }
   ],
   "source": [
    "train_data = df.iloc[:,:100]\n",
    "train_data =np.matrix(train_data.values) \n",
    "weight = np.random.uniform(-0.1,0.1,100) #随机初始化权重\n",
    "weight = weight.reshape(100,1) #转化权重向量维度\n",
    "bias = np.random.randn(1) #偏置项\n",
    "bias = bias.astype(float)\n",
    "print('shape of training data:',train_data.shape)\n",
    "# print(train_data)\n",
    "# print(train_data_label.shape)\n",
    "print('number of labels:',len(train_data_label))\n",
    "\n",
    "num = len(train_data)\n",
    "\n",
    "learning_rate = 0.01 #这里调整学习率\n",
    "# learning_rate = input('input learning rate:')\n",
    "\n",
    "for train in range(0,15):\n",
    "    for i in range(0,num):\n",
    "        grad=cal_gradient(weight,train_data[i],train_data_label[i],bias)\n",
    "        bias=update_bias(bias,grad)\n",
    "        for w in range(len(weight)):\n",
    "            gradient = np.dot(train_data[i,w],grad) \n",
    "            weight[w]=update_weight(weight[w],grad,train_data[i,w])\n",
    "\n",
    "train_correct_count = 0\n",
    "for i in range(0,num):\n",
    "    if get_acc(weight,train_data[i],bias) == train_data_label[i]:\n",
    "        #print(get_acc(weight,X[i],bias),y[i])\n",
    "        train_correct_count+=1\n",
    "        \n",
    "print('learning rate:',learning_rate)        \n",
    "        \n",
    "print('training set correct:',train_correct_count)\n",
    "print('training set accuracy:',train_correct_count/num) \n",
    "\n",
    "test_correct_count = 0\n",
    "print('test data total:',len(test_data_label))\n",
    "for t in range(0,len(test_data_label)):\n",
    "    if get_acc(weight,test_data[t],bias) == test_data_label[t]:\n",
    "        #print(get_acc(weight,X[i],bias),y[i])\n",
    "        test_correct_count+=1\n",
    "        \n",
    "print('test data correct:',test_correct_count)\n",
    "print('test data accuray:',test_correct_count/len(test_data_label))"
   ]
  },
  {
   "cell_type": "markdown",
   "metadata": {},
   "source": [
    "这里总结了一下分别选取相同轮次下，learning rate为：0.01，0.05，0.1，0.15，0.2，0.25，0.3时模型在测试集和训练集的准确率表现。如下所示："
   ]
  },
  {
   "cell_type": "markdown",
   "metadata": {},
   "source": [
    "\n",
    "| 学习率 | 0.01 | 0.05 | 0.1 | 0.15 | 0.2 | 0.25 | 0.3 |\n",
    "| :----------: | :--------: | :----------: | :----------: | :----------: | :----------: | :----------: | :----------: |\n",
    "| 训练集准确率 | 0.998 | 0.998 | 0.990 | 0.80 | 0.80 | 0.421 | 0.410\n",
    "| 测试集准确率| 0.992 | 0.988 | 0.984 | 0.776 | 0.786 | 0.496 | 0.492"
   ]
  },
  {
   "cell_type": "markdown",
   "metadata": {},
   "source": [
    "依托这些数据做个简单的可视化，看看学习率对模型精确度的影响"
   ]
  },
  {
   "cell_type": "code",
   "execution_count": 156,
   "metadata": {},
   "outputs": [
    {
     "data": {
      "image/png": "[encoded data removed]",
      "text/plain": [
       "<Figure size 432x288 with 1 Axes>"
      ]
     },
     "metadata": {
      "needs_background": "light"
     },
     "output_type": "display_data"
    },
    {
     "data": {
      "image/png": "[encoded data removed]",
      "text/plain": [
       "<Figure size 432x288 with 1 Axes>"
      ]
     },
     "metadata": {
      "needs_background": "light"
     },
     "output_type": "display_data"
    }
   ],
   "source": [
    "# 训练集表现\n",
    "def train_data_accuracy_plot():\n",
    "    x=[0.01,0.05,0.1,0.15,0.2,0.25,0.3]\n",
    "    y=[0.998,0.998,0.990,0.80,0.80,0.421,0.410]\n",
    "    plt.plot(x,y)\n",
    "    plt.scatter(x,y)\n",
    "    plt.title('Training set performance')\n",
    "    plt.grid(linestyle='-.')\n",
    "    plt.xlabel('learning rate')\n",
    "    plt.ylabel('train data accuracy')\n",
    "    plt.show()\n",
    "    \n",
    "# 测试集表现\n",
    "def test_data_accuracy_plot():\n",
    "    x=[0.01,0.05,0.1,0.15,0.2,0.25,0.3]\n",
    "    y=[0.992,0.988,0.984,0.776,0.786,0.496,0.492]\n",
    "    plt.plot(x,y,'g*-')\n",
    "    plt.scatter(x,y)\n",
    "    plt.title('Test set performance')\n",
    "    plt.grid(linestyle='-.')\n",
    "    plt.xlabel('learning rate')\n",
    "    plt.ylabel('test data accuracy')\n",
    "    plt.show()\n",
    "\n",
    "train_data_accuracy_plot()    \n",
    "test_data_accuracy_plot()"
   ]
  },
  {
   "cell_type": "code",
   "execution_count": 160,
   "metadata": {},
   "outputs": [
    {
     "data": {
      "image/png": "[encoded data removed]",
      "text/plain": [
       "<Figure size 432x288 with 1 Axes>"
      ]
     },
     "metadata": {
      "needs_background": "light"
     },
     "output_type": "display_data"
    }
   ],
   "source": [
    "def comparison_plot():\n",
    "    x=[0.01,0.05,0.1,0.15,0.2,0.25,0.3]\n",
    "    y_test=[0.992,0.988,0.984,0.776,0.786,0.496,0.492]\n",
    "    y_train=[0.998,0.998,0.990,0.80,0.80,0.421,0.410]\n",
    "    plt.plot(x,y_test,'g*-')\n",
    "    plt.plot(x,y_train)\n",
    "    plt.scatter(x,y_test)\n",
    "    plt.scatter(x,y_train)\n",
    "    plt.title('performance')\n",
    "    plt.grid(linestyle='-.')\n",
    "    plt.xlabel('learning rate')\n",
    "    plt.ylabel('Accuracy')\n",
    "    plt.show()\n",
    "comparison_plot()"
   ]
  },
  {
   "cell_type": "markdown",
   "metadata": {},
   "source": [
    "可以看到，对于这个比较简单的数据集而言，小步长在足够的训练轮次下可以表现的很好，而放大步长会明显导致模型无法收敛/来回震荡，这在测试集和训练集表现相似，没有发生严重的过拟合现象。"
   ]
  },
  {
   "cell_type": "markdown",
   "metadata": {},
   "source": [
    "除此之外，权重初始值分布也对模型的收敛速度和最终达到的精度有影响，$U(-0.1,0.1)$ 的初始分布比较好，稍大一些的均匀分布区间或是正态分布初始化略差一点，比如$U(-1,1)$或$N(-1,1)$的表现不如$U(-0.1,0.1)$，但是从测试集准确率而言影响幅度不大，最终性能只会差两三个测试样本的正确性。"
   ]
  },
  {
   "cell_type": "markdown",
   "metadata": {},
   "source": [
    "**End of Experiment1**"
   ]
  }
 ],
 "metadata": {
  "kernelspec": {
   "display_name": "Python 3",
   "language": "python",
   "name": "python3"
  },
  "language_info": {
   "codemirror_mode": {
    "name": "ipython",
    "version": 3
   },
   "file_extension": ".py",
   "mimetype": "text/x-python",
   "name": "python",
   "nbconvert_exporter": "python",
   "pygments_lexer": "ipython3",
   "version": "3.8.5"
  }
 },
 "nbformat": 4,
 "nbformat_minor": 4
}
