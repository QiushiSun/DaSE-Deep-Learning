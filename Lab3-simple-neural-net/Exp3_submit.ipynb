{
 "cells": [
  {
   "cell_type": "markdown",
   "metadata": {},
   "source": [
    "# Deep Learning Lab3\n",
    "\n",
    "**10185501402 孙秋实 2018级**\n",
    "\n",
    "本节课我们实现包含隐层的神经网络模型，并在手写数字识别数据集MNIST上进行测试。"
   ]
  },
  {
   "cell_type": "markdown",
   "metadata": {},
   "source": [
    "**实验摘要：**\n",
    "\n",
    "**我选择重新写这次实验的代码，并且使用了以下方法提升这个手写神经网络在MNIST数据集上的表现：**\n",
    "1. 使用Softmax激活函数和Cross Entropy损失函数的组合\n",
    "2. 使用了Mini-batch梯度下降方法\n",
    "3. 使用了如下初始化方法，比较在较少的训练轮次模型收敛速度和拟合情况：\n",
    "     1. 完全随机初始化\n",
    "     2. Xavier初始化\n",
    "     3. Kaiming/MSRA初始化\n",
    "4. 使用了如下优化器，比较在较少的训练轮次模型收敛速度和拟合情况：\n",
    "     1. AdaGrad Optimizer\n",
    "     2. RMSProp Optimizer\n",
    "     3. Adam Optimizer\n",
    "\n",
    "**建立多个网络用于测试各种算法的有效性，最终选择表现比较好的Kaiming/MSRA初始化 + RMSProp优化方法进行训练，配合学习率衰减防止震荡，最后加入正则化项缓解过拟合问题。**\n"
   ]
  },
  {
   "cell_type": "markdown",
   "metadata": {},
   "source": [
    "## 数据集\n",
    "\n",
    "手写数字识别数据集\n",
    "\n",
    "下载链接：https://www.kaggle.com/c/digit-recognizer/data\n",
    "\n",
    "（本节课仅需要训练集）"
   ]
  },
  {
   "cell_type": "markdown",
   "metadata": {},
   "source": [
    "先导入相应的包"
   ]
  },
  {
   "cell_type": "code",
   "execution_count": 1,
   "metadata": {},
   "outputs": [],
   "source": [
    "import pandas as pd\n",
    "import numpy as np\n",
    "import matplotlib \n",
    "import matplotlib.pyplot as plt\n",
    "from collections import OrderedDict"
   ]
  },
  {
   "cell_type": "markdown",
   "metadata": {},
   "source": [
    "从DataFrame中读取x与y，转化为numpy数组"
   ]
  },
  {
   "cell_type": "code",
   "execution_count": 2,
   "metadata": {},
   "outputs": [],
   "source": [
    "def get_data(data):\n",
    "    x = data[[i for i in list(data.columns) if i != \"label\"]].values\n",
    "    x_train = np.array(x)\n",
    "    x_train = x_train.astype(np.float64)\n",
    "    mean_image = np.mean(x_train, axis=0)\n",
    "    x_train -= mean_image\n",
    "    # 将标签转化为 one-hot 向量\n",
    "    y_list = []\n",
    "    for i in data[\"label\"]:\n",
    "        y = [0] * 10\n",
    "        y[i] = 1\n",
    "        y_list.append(y)\n",
    "    return x_train/20, np.array(y_list)"
   ]
  },
  {
   "cell_type": "markdown",
   "metadata": {},
   "source": [
    "Remark:如果不是one-hot向量，衡量损失的时候不同数字的错误就会返回不平等的损失，比如把9错判为0的损失会是把1错判为0的损失的81倍"
   ]
  },
  {
   "cell_type": "code",
   "execution_count": 3,
   "metadata": {},
   "outputs": [],
   "source": [
    "class Affine:\n",
    "    def __init__(self, W, b):\n",
    "        self.W = W\n",
    "        self.b = b\n",
    "        self.x = None\n",
    "        self.dW = None\n",
    "        self.db = None\n",
    "\n",
    "    def feed_forward(self, x):\n",
    "        self.x = x\n",
    "        out = np.dot(x, self.W) + self.b\n",
    "        return out\n",
    "\n",
    "    def feed_backward(self, dout):\n",
    "        dx = np.dot(dout, self.W.T) \n",
    "        self.dW = np.dot(self.x.T, dout) \n",
    "        self.db = np.sum(dout, axis=0)   # 反向传播bias项\n",
    "        return dx"
   ]
  },
  {
   "cell_type": "markdown",
   "metadata": {},
   "source": [
    "实现RELU激活函数，大于零不做改变，小于零抹为0"
   ]
  },
  {
   "cell_type": "code",
   "execution_count": 4,
   "metadata": {},
   "outputs": [],
   "source": [
    "class Relu(): # RELU激活函数，大于零不做改变，小于零抹为0\n",
    "    def __init__(self):\n",
    "        self.mask = None \n",
    "        \n",
    "    def feed_forward(self, x):\n",
    "        self.mask = (x <= 0)   \n",
    "        out = x.copy()           \n",
    "        out[self.mask] = 0       \n",
    "        return out\n",
    "\n",
    "    def feed_backward(self, dout):\n",
    "        dout[self.mask] = 0 # 下游梯度传播\n",
    "        dx = dout\n",
    "        return dx"
   ]
  },
  {
   "cell_type": "markdown",
   "metadata": {},
   "source": [
    "实现Softmax函数，返回一个和为1的概率分布"
   ]
  },
  {
   "cell_type": "markdown",
   "metadata": {},
   "source": [
    "$$S_{i}=\\frac{e^{i}}{\\sum_{j} e^{j}}$$"
   ]
  },
  {
   "cell_type": "code",
   "execution_count": 5,
   "metadata": {},
   "outputs": [],
   "source": [
    "def softmax(x): \n",
    "    if x.ndim == 2: \n",
    "        x = x.T \n",
    "        x = x - np.max(x, axis=0)\n",
    "        y = np.exp(x) / np.sum(np.exp(x), axis=0)\n",
    "        return y.T\n",
    "    # 防止溢出\n",
    "    x = x - np.max(x) \n",
    "    return np.exp(x) / np.sum(np.exp(x))"
   ]
  },
  {
   "cell_type": "markdown",
   "metadata": {},
   "source": [
    "实现Softmax函数的损失计算"
   ]
  },
  {
   "cell_type": "code",
   "execution_count": 6,
   "metadata": {},
   "outputs": [],
   "source": [
    "class Softmax_With_Loss:\n",
    "    def __init__(self):\n",
    "        self.loss = None \n",
    "        self.y = None \n",
    "        self.t = None \n",
    "\n",
    "    def feed_forward(self, x, t):\n",
    "        self.t = t\n",
    "        self.y = softmax(x)\n",
    "        self.loss = Cross_Entropy_Loss(self.y, self.t)\n",
    "        return self.loss\n",
    "\n",
    "    def feed_backward(self, dout=1):\n",
    "        batch_size = self.t.shape[0]\n",
    "        dx = (self.y - self.t) / batch_size \n",
    "        return dx"
   ]
  },
  {
   "cell_type": "code",
   "execution_count": 7,
   "metadata": {},
   "outputs": [],
   "source": [
    "def Cross_Entropy_Loss(y, t):\n",
    "    epsilon = 1e-07 \n",
    "    # 这里需要设置一个极小值防止log0\n",
    "    return - np.sum(t * np.log(y + epsilon)) "
   ]
  },
  {
   "cell_type": "markdown",
   "metadata": {},
   "source": [
    "权重初始化是神经网络训练任务中比较关键的一环（比如全部初始化为相同的值或者全0就废了...）在这里我们测试三种不同的参数初始化方法在**较小的训练轮次**时的表现优劣（因为这个任务比较简单，只要迭代轮次够多，准确率都能上去，我们为了比较初始化方法而选择小轮次里进行测试）\n",
    "\n",
    "最简单的初始化即直接使用均匀分布或是正态分布初始化，但这种随机的初始化方法可能会导致\n",
    "\n",
    "在这里额外采用两种计算机视觉中任务中常见的初始化方法，即\n",
    "1. **Xavier初始化**\n",
    "2. **Kaiming初始化**\n",
    "\n",
    "（Stanford CS231n课程里面也讲解了这两种典型的初始化方法，我们在这里做一下尝试）\n",
    "\n",
    "由于不使用深度学习框架，为了方便起见，我直接把Kaiming初始化和Xavier初始化的方法写在init函数之中，通过传参来开关这两个功能"
   ]
  },
  {
   "cell_type": "code",
   "execution_count": 8,
   "metadata": {},
   "outputs": [],
   "source": [
    "class Two_Layers_Net:\n",
    "    def __init__(self, input_size, hidden_size, output_size, \n",
    "                 weight_init_std=0.01, msra=False, Xavier = False):\n",
    "        self.params = {} \n",
    "        # 我们使用参数词典来存储我们的权重和偏置项\n",
    "        # 首先实现 Kaiming Initialization\n",
    "        if msra==True:\n",
    "            print('Using MSRA/Kaiming Initialization')\n",
    "            self.params['W1'] = np.random.randn(input_size, hidden_size)*np.sqrt(2/input_size)\n",
    "            self.params['b1'] = np.random.randn(hidden_size)/np.sqrt(input_size)\n",
    "            self.params['W2'] = np.random.randn(hidden_size, output_size)*np.sqrt(2/hidden_size)\n",
    "            self.params['b2'] = np.random.randn(output_size)/np.sqrt(hidden_size)\n",
    "            \n",
    "        # 其次是实现 Xavier Initialization\n",
    "        elif Xavier == True:\n",
    "            print('Using Xaiver Initialization')\n",
    "            self.params['W1'] = np.random.randn(input_size, hidden_size)/np.sqrt(input_size)\n",
    "            self.params['b1'] = np.random.randn(hidden_size)/np.sqrt(input_size)\n",
    "            self.params['W2'] = np.random.randn(hidden_size, output_size)/np.sqrt(hidden_size)\n",
    "            self.params['b2'] = np.random.randn(output_size)/np.sqrt(hidden_size)\n",
    "            \n",
    "        # 最后是完全随机初始化，用作衡量前面两种算法的比较基准物\n",
    "        else:\n",
    "            print('Using Random Initialization')\n",
    "            self.params['W1'] = np.random.randn(input_size, hidden_size)\n",
    "            self.params['b1'] = np.zeros(hidden_size)\n",
    "            self.params['W2'] = np.random.randn(hidden_size, output_size)\n",
    "            self.params['b2'] = np.zeros(output_size)\n",
    "        # 生成层\n",
    "        \n",
    "        self.layers = OrderedDict() \n",
    "        # 创建有序字典\n",
    "        # 记住向字典中添加元素的顺序，在反向传播时只需要按相反的顺序调用各层即可）\n",
    "        \n",
    "        self.layers['Affine1'] = Affine(self.params['W1'], self.params['b1'])\n",
    "        self.layers['Relu1'] = Relu()\n",
    "        # RELU函数没有参数需要学习\n",
    "        self.layers['Affine2'] = Affine(self.params['W2'], self.params['b2'])\n",
    "        self.lastlayer = Softmax_With_Loss() \n",
    "        #使用Softmax给出分类结果\n",
    "\n",
    "    # 进行前向传播\n",
    "    def predict(self, x):\n",
    "        for layer in self.layers.values():\n",
    "            x = layer.feed_forward(x)\n",
    "        return x\n",
    "\n",
    "    # 计算损失函数的值 x输入数据，t监督数据\n",
    "    def loss(self, x, t):\n",
    "        y = self.predict(x)\n",
    "        return self.lastlayer.feed_forward(y, t)\n",
    "\n",
    "    # 计算推理的精确程度\n",
    "    def accuracy(self, x, t):\n",
    "        y = self.predict(x) # 先推理\n",
    "        y = np.argmax(y, axis=1) # 最大值的索引\n",
    "        if t.ndim != 1: t = np.argmax(t, axis=1) # 防止监督数据不是独热编码\n",
    "        # compute accuracy if the idex are same\n",
    "        accuracy = np.sum(y == t) / float(x.shape[0]) # x.shape[0]是整个数据的数量\n",
    "        return accuracy\n",
    "\n",
    "    # 计算权重参数梯度\n",
    "    # 通过误差反向传播计算关于权重的梯度\n",
    "    def gradient(self, x, t):\n",
    "        self.loss(x, t)\n",
    "\n",
    "        # 实现反向传播\n",
    "        dout = 1\n",
    "        dout = self.lastlayer.feed_backward(dout)\n",
    "        layers = list(self.layers.values())\n",
    "        layers.reverse() \n",
    "        for layer in layers:\n",
    "            dout = layer.feed_backward(dout)\n",
    "        # 注意维度正确\n",
    "\n",
    "        # 设定梯度参数\n",
    "        grads = {}\n",
    "        grads['W1'] = self.layers['Affine1'].dW\n",
    "        grads['b1'] = self.layers['Affine1'].db\n",
    "        grads['W2'] = self.layers['Affine2'].dW\n",
    "        grads['b2'] = self.layers['Affine2'].db\n",
    "        return grads \n",
    "        # 最后返回各个参数的梯度"
   ]
  },
  {
   "cell_type": "markdown",
   "metadata": {},
   "source": [
    "## 权重初始化的方法"
   ]
  },
  {
   "cell_type": "markdown",
   "metadata": {},
   "source": [
    "我们希望这个简单的模型能**快速且稳定**的收敛，就要让样本空间与类别空间的分布差异不要太大，换句话说，就是要让它们的方差尽可能接近\n",
    "\n",
    "推导过程如下\n",
    "\n",
    "$$\\begin{aligned}\n",
    "\\operatorname{Var}\\left(y_{i}\\right) &=\\operatorname{Din}^{*} \\operatorname{Var}\\left(x_{i} w_{i}\\right) \\\\\n",
    "&=\\operatorname{Din}^{*}\\left(E\\left[x_{i}^{2}\\right] E\\left[w_{i}^{2}\\right]-E\\left[x_{i}\\right]^{2} E\\left[w_{i}\\right]^{2}\\right) \\\\\n",
    "&=\\operatorname{Din}^{*} \\operatorname{Var}\\left(x_{i}\\right)^{*} \\operatorname{Var}\\left(w_{i}\\right)\n",
    "\\end{aligned}$$\n",
    "\n",
    "所以我们需要 $$\\operatorname{Var}\\left(\\mathrm{w}_{\\mathrm{i}}\\right)=1 / \\text { Din, } \\operatorname{Var}\\left(\\mathrm{y}_{\\mathrm{i}}\\right)=\\operatorname{Var}\\left(\\mathrm{x}_{\\mathrm{i}}\\right)$$\n",
    "\n",
    "于是，我们可以得到**“Xavier”** initialization的核心思想是：\n",
    "\n",
    "$$Std = 1/Sqrt(Din)$$"
   ]
  },
  {
   "cell_type": "markdown",
   "metadata": {},
   "source": [
    "而 **Kaiming** 初始化是对 Xavier 初始化的一种改进方法，Xavier假设数据是 \"Zero-Centered\"，而二者主要区别在于Kaiming初始化考虑了每次矩阵乘法后在非零均值函数，如ReLU激活函数上的表现，用于解决“梯度塌陷”的问题。"
   ]
  },
  {
   "cell_type": "markdown",
   "metadata": {},
   "source": [
    "接下来，我们同时训练三个神经网络，分别使用不同的初始化方法，训练一个小轮次后进行对比"
   ]
  },
  {
   "cell_type": "code",
   "execution_count": 9,
   "metadata": {},
   "outputs": [
    {
     "name": "stdout",
     "output_type": "stream",
     "text": [
      "Network0:\n",
      "Using Random Initialization\n",
      "Network1:\n",
      "Using Xaiver Initialization\n",
      "Network2:\n",
      "Using MSRA/Kaiming Initialization\n"
     ]
    }
   ],
   "source": [
    "# 读取训练数据 标签y以onehot编码存储\n",
    "train_data = pd.read_csv(\"train_data.csv\")\n",
    "train_x, train_y = get_data(train_data)\n",
    "\n",
    "print('Network0:')\n",
    "network0 = Two_Layers_Net(input_size=784, hidden_size=30, output_size=10, msra= False, Xavier = False)\n",
    "\n",
    "print('Network1:')\n",
    "network1 = Two_Layers_Net(input_size=784, hidden_size=30, output_size=10, msra= False, Xavier = True)\n",
    "\n",
    "print('Network2:')\n",
    "network2 = Two_Layers_Net(input_size=784, hidden_size=30, output_size=10, msra= True, Xavier = False)\n",
    "\n",
    "training_set_size = train_x.shape[0]\n",
    "batch_size = 128\n",
    "learning_rate = 0.01\n",
    "iteration = 250"
   ]
  },
  {
   "cell_type": "code",
   "execution_count": 10,
   "metadata": {},
   "outputs": [
    {
     "name": "stdout",
     "output_type": "stream",
     "text": [
      "Random initialization, iteration: 0 train_accuracy: 0.113\n",
      "Xavier initialization, iteration: 0 train_accuracy: 0.182\n",
      "MSRA initialization,   iteration: 0 train_accuracy: 0.115\n",
      "Random initialization, iteration: 25 train_accuracy: 0.511\n",
      "Xavier initialization, iteration: 25 train_accuracy: 0.733\n",
      "MSRA initialization,   iteration: 25 train_accuracy: 0.696\n",
      "Random initialization, iteration: 50 train_accuracy: 0.638\n",
      "Xavier initialization, iteration: 50 train_accuracy: 0.815\n",
      "MSRA initialization,   iteration: 50 train_accuracy: 0.786\n",
      "Random initialization, iteration: 75 train_accuracy: 0.687\n",
      "Xavier initialization, iteration: 75 train_accuracy: 0.844\n",
      "MSRA initialization,   iteration: 75 train_accuracy: 0.819\n",
      "Random initialization, iteration: 100 train_accuracy: 0.715\n",
      "Xavier initialization, iteration: 100 train_accuracy: 0.862\n",
      "MSRA initialization,   iteration: 100 train_accuracy: 0.839\n",
      "Random initialization, iteration: 125 train_accuracy: 0.734\n",
      "Xavier initialization, iteration: 125 train_accuracy: 0.875\n",
      "MSRA initialization,   iteration: 125 train_accuracy: 0.855\n",
      "Random initialization, iteration: 150 train_accuracy: 0.747\n",
      "Xavier initialization, iteration: 150 train_accuracy: 0.884\n",
      "MSRA initialization,   iteration: 150 train_accuracy: 0.866\n",
      "Random initialization, iteration: 175 train_accuracy: 0.758\n",
      "Xavier initialization, iteration: 175 train_accuracy: 0.891\n",
      "MSRA initialization,   iteration: 175 train_accuracy: 0.874\n",
      "Random initialization, iteration: 200 train_accuracy: 0.763\n",
      "Xavier initialization, iteration: 200 train_accuracy: 0.896\n",
      "MSRA initialization,   iteration: 200 train_accuracy: 0.880\n",
      "Random initialization, iteration: 225 train_accuracy: 0.758\n",
      "Xavier initialization, iteration: 225 train_accuracy: 0.901\n",
      "MSRA initialization,   iteration: 225 train_accuracy: 0.886\n",
      "Random initialization, iteration: 250 train_accuracy: 0.775\n",
      "Xavier initialization, iteration: 250 train_accuracy: 0.905\n",
      "MSRA initialization,   iteration: 250 train_accuracy: 0.892\n"
     ]
    }
   ],
   "source": [
    "train_plot_data_random = []\n",
    "train_plot_data_Xavier = []\n",
    "train_plot_data_msra = []\n",
    "\n",
    "for Iter in range(iteration+1):\n",
    "    batch_mask = np.random.choice(training_set_size, batch_size) # 随机选择\n",
    "    x_batch = train_x[batch_mask]\n",
    "    y_batch = train_y[batch_mask]\n",
    "    # 使用误差反向传播法求梯度\n",
    "\n",
    "    grad0 = network0.gradient(x_batch, y_batch)\n",
    "    grad1 = network1.gradient(x_batch, y_batch)\n",
    "    grad2 = network2.gradient(x_batch, y_batch)\n",
    "    # 更新\n",
    "    for key in ('W1', 'b1', 'W2', 'b2'):\n",
    "        network0.params[key] -= learning_rate * grad0[key]\n",
    "        network1.params[key] -= learning_rate * grad1[key]\n",
    "        network2.params[key] -= learning_rate * grad2[key]\n",
    "        \n",
    "    train_acc_rand = network0.accuracy(train_x,train_y)\n",
    "    train_acc_Xavier = network1.accuracy(train_x,train_y)\n",
    "    train_acc_msra = network2.accuracy(train_x,train_y)\n",
    "    if Iter %25 ==0:\n",
    "        print(\"Random initialization, iteration:\",Iter,\"train_accuracy: %.3f\" % train_acc_rand)\n",
    "        print(\"Xavier initialization, iteration:\",Iter,\"train_accuracy: %.3f\" % train_acc_Xavier)\n",
    "        print(\"MSRA initialization,   iteration:\",Iter,\"train_accuracy: %.3f\" % train_acc_msra)\n",
    "    train_plot_data_random.append(train_acc_rand)\n",
    "    train_plot_data_Xavier.append(train_acc_Xavier)\n",
    "    train_plot_data_msra.append(train_acc_msra)"
   ]
  },
  {
   "cell_type": "code",
   "execution_count": 11,
   "metadata": {},
   "outputs": [],
   "source": [
    "def acc_init_plot(data1,data2,data3):\n",
    "    line1, = plt.plot(data1,'blue',label = 'Random Init')\n",
    "    line2, = plt.plot(data2,'red', label = 'Xavier Init') # 记得加逗号，否则legend会找不到维度\n",
    "    line3, = plt.plot(data3,'yellow', label = 'MSRA Init') # 记得加逗号，否则legend会找不到维度\n",
    "    plt.title('Performance on training set, learning rate = 0.01')\n",
    "    plt.legend(handles=[line1, line2, line3], labels=['Random Init','Xavier Init','MSRA Init'], loc='best')\n",
    "    plt.grid(linestyle='-.')\n",
    "    plt.xlabel('iteration')\n",
    "    plt.ylabel('Accuracy')\n",
    "    plt.show()"
   ]
  },
  {
   "cell_type": "code",
   "execution_count": 12,
   "metadata": {},
   "outputs": [
    {
     "data": {
      "image/png": "[encoded data removed]",
      "text/plain": [
       "<Figure size 432x288 with 1 Axes>"
      ]
     },
     "metadata": {
      "needs_background": "light"
     },
     "output_type": "display_data"
    }
   ],
   "source": [
    "acc_init_plot(train_plot_data_random,train_plot_data_Xavier,train_plot_data_msra)"
   ]
  },
  {
   "cell_type": "markdown",
   "metadata": {},
   "source": [
    "如上图所示，我们可以明显发现**Xavier初始化和Kaiming/MSRA初始化的表现要优于完全随机初始化**，仅训练两百轮即可达到90+的准确率，而且二者在收敛的过程中相对平缓，相对的，在完全随机初始化的情况下，同样的训练轮次只能达到75%的准确率，且不论在0.1和0.01的学习率情况下，都出现了明显的**震荡和波动**。"
   ]
  },
  {
   "cell_type": "markdown",
   "metadata": {},
   "source": [
    "## 优化器方法"
   ]
  },
  {
   "cell_type": "markdown",
   "metadata": {},
   "source": [
    "**接下来，我们尝试三种优化器方法**"
   ]
  },
  {
   "cell_type": "markdown",
   "metadata": {},
   "source": [
    "### AdaGrad Optimizer"
   ]
  },
  {
   "cell_type": "markdown",
   "metadata": {},
   "source": [
    "首先实现AdaGrad方法\n",
    "\n",
    "它的算法流程如下：\n",
    "\n",
    "grad_squared $=0$\n",
    "\n",
    "While True:\n",
    "\n",
    "$dx=$ compute_gradient $(x)$\n",
    "\n",
    "$grad\\_squared +=dx ** 2$\n",
    "\n",
    "$x-= learning\\_rate  * dx /  np.sqrt (grad\\_squared)+\\epsilon)$  ($\\epsilon$防止除0)"
   ]
  },
  {
   "cell_type": "markdown",
   "metadata": {},
   "source": [
    "AdaGrad通过累积过去的梯度调整学习率，缺点是在长时间的训练后容易导致每次更新的绝对值趋近于0"
   ]
  },
  {
   "cell_type": "code",
   "execution_count": 13,
   "metadata": {},
   "outputs": [
    {
     "name": "stdout",
     "output_type": "stream",
     "text": [
      "Network3:\n",
      "Using Random Initialization\n",
      "AdaGrad(Radnom Init), iteration: 0 train_accuracy: 0.104\n",
      "AdaGrad(Radnom Init), iteration: 25 train_accuracy: 0.559\n",
      "AdaGrad(Radnom Init), iteration: 50 train_accuracy: 0.707\n",
      "AdaGrad(Radnom Init), iteration: 75 train_accuracy: 0.769\n",
      "AdaGrad(Radnom Init), iteration: 100 train_accuracy: 0.804\n",
      "AdaGrad(Radnom Init), iteration: 125 train_accuracy: 0.824\n",
      "AdaGrad(Radnom Init), iteration: 150 train_accuracy: 0.834\n",
      "AdaGrad(Radnom Init), iteration: 175 train_accuracy: 0.849\n",
      "AdaGrad(Radnom Init), iteration: 200 train_accuracy: 0.857\n",
      "AdaGrad(Radnom Init), iteration: 225 train_accuracy: 0.865\n",
      "AdaGrad(Radnom Init), iteration: 250 train_accuracy: 0.872\n"
     ]
    }
   ],
   "source": [
    "# 我们建立第四个神经网络，用于测试AdaGrad算法的性能\n",
    "\n",
    "print('Network3:')\n",
    "network3 = Two_Layers_Net(input_size=784, hidden_size=30, output_size=10, msra= False, Xavier = False)\n",
    "\n",
    "batch_size = 128\n",
    "learning_rate = 0.01\n",
    "iteration = 250\n",
    "epsilon = 1e-7\n",
    "\n",
    "train_plot_data_adagrad = []\n",
    "\n",
    "for Iter in range(iteration+1):\n",
    "    batch_mask = np.random.choice(training_set_size, batch_size) # 随机选择\n",
    "    x_batch = train_x[batch_mask]\n",
    "    y_batch = train_y[batch_mask]\n",
    "    # 使用误差反向传播法求梯度\n",
    "\n",
    "    grad3 = network3.gradient(x_batch, y_batch)\n",
    "    grad3_squared_W1 = grad3_squared_b1 = grad3_squared_W2 = grad3_squared_b2 = 0\n",
    "    # 更新\n",
    "    grad3_squared_W1 += grad3['W1']**2\n",
    "    network3.params['W1'] -= learning_rate * grad3['W1']/np.sqrt((epsilon + grad3_squared_W1))\n",
    "    grad3_squared_b1 += grad3['b1']**2\n",
    "    network3.params['b1'] -= learning_rate * grad3['b1']/np.sqrt((epsilon + grad3_squared_b1))\n",
    "    grad3_squared_W2 += grad3['W2']**2\n",
    "    network3.params['W2'] -= learning_rate * grad3['W2']/np.sqrt((epsilon + grad3_squared_W2))\n",
    "    grad3_squared_b2 += grad3['b2']**2\n",
    "    network3.params['b2'] -= learning_rate * grad3['b2']/np.sqrt((epsilon + grad3_squared_b2))\n",
    "\n",
    "    train_acc_adagrad = network3.accuracy(train_x,train_y)\n",
    "\n",
    "    if Iter %25 ==0:\n",
    "        print(\"AdaGrad(Radnom Init), iteration:\",Iter,\"train_accuracy: %.3f\" % train_acc_adagrad)\n",
    "\n",
    "    train_plot_data_adagrad.append(train_acc_adagrad)\n",
    "    \n",
    "    #AdaGrad"
   ]
  },
  {
   "cell_type": "code",
   "execution_count": 14,
   "metadata": {},
   "outputs": [],
   "source": [
    "def acc_optim_plot(data1,data2):\n",
    "    line1, = plt.plot(data1,'blue',label = 'AdaGrad')\n",
    "    line2, = plt.plot(data2,'red', label = 'Naive') # 记得加逗号，否则legend会找不到维度\n",
    "    plt.title('Performance on training set, AdaGrad vs Naive')\n",
    "    plt.legend(handles=[line1, line2], labels=['AdaGrad','Naive'], loc='best')\n",
    "    plt.grid(linestyle='-.')\n",
    "    plt.xlabel('iteration')\n",
    "    plt.ylabel('Accuracy')\n",
    "    plt.show()"
   ]
  },
  {
   "cell_type": "code",
   "execution_count": 15,
   "metadata": {},
   "outputs": [
    {
     "data": {
      "image/png": "[encoded data removed]",
      "text/plain": [
       "<Figure size 432x288 with 1 Axes>"
      ]
     },
     "metadata": {
      "needs_background": "light"
     },
     "output_type": "display_data"
    }
   ],
   "source": [
    "acc_optim_plot(train_plot_data_adagrad,train_plot_data_random)"
   ]
  },
  {
   "cell_type": "markdown",
   "metadata": {},
   "source": [
    "可以看到，使用AdaGrad优化方法后，我们的网络在250轮次的训练后性能明显好于不使用优化器的原始网络。"
   ]
  },
  {
   "cell_type": "markdown",
   "metadata": {},
   "source": [
    "### RMSProp Optimizer"
   ]
  },
  {
   "cell_type": "markdown",
   "metadata": {},
   "source": [
    "RMSProp是一个与AdaGrad类似的算法，称之为“Leaky AdaGrad”，RMSProp算法不是像AdaGrad算法那样暴力直接的累加平方梯度，而是加了一个衰减系数（decay rate）来控制历史信息的获取多少。"
   ]
  },
  {
   "cell_type": "markdown",
   "metadata": {},
   "source": [
    "主要的修改在累积梯度的计算上\n",
    "\n",
    "$$ grad\\_squared  = decay\\_rate * grad\\_squared + (1 - decay\\_rate ) * dx ** 2 $$\n"
   ]
  },
  {
   "cell_type": "code",
   "execution_count": 16,
   "metadata": {},
   "outputs": [
    {
     "name": "stdout",
     "output_type": "stream",
     "text": [
      "Network4:\n",
      "Using Random Initialization\n",
      "RMSProp\n",
      "RMSPRop(Radnom Init), iteration: 0 train_accuracy: 0.191\n",
      "RMSPRop(Radnom Init), iteration: 25 train_accuracy: 0.627\n",
      "RMSPRop(Radnom Init), iteration: 50 train_accuracy: 0.741\n",
      "RMSPRop(Radnom Init), iteration: 75 train_accuracy: 0.796\n",
      "RMSPRop(Radnom Init), iteration: 100 train_accuracy: 0.828\n",
      "RMSPRop(Radnom Init), iteration: 125 train_accuracy: 0.842\n",
      "RMSPRop(Radnom Init), iteration: 150 train_accuracy: 0.857\n",
      "RMSPRop(Radnom Init), iteration: 175 train_accuracy: 0.861\n",
      "RMSPRop(Radnom Init), iteration: 200 train_accuracy: 0.873\n",
      "RMSPRop(Radnom Init), iteration: 225 train_accuracy: 0.884\n",
      "RMSPRop(Radnom Init), iteration: 250 train_accuracy: 0.887\n"
     ]
    }
   ],
   "source": [
    "# 我们建立第五个神经网络，用于测试RMSProp算法的性能\n",
    "print('Network4:')\n",
    "network4 = Two_Layers_Net(input_size=784, hidden_size=30, output_size=10, msra= False, Xavier = False)\n",
    "decay_rate = 0.9\n",
    "train_plot_data_rmsprop = []\n",
    "\n",
    "print('RMSProp')\n",
    "grad4_squared_W1 = grad4_squared_b1 = grad4_squared_W2 = grad4_squared_b2 = 0\n",
    "for Iter in range(iteration+1):\n",
    "    batch_mask = np.random.choice(training_set_size, batch_size) # 随机选择\n",
    "    x_batch = train_x[batch_mask]\n",
    "    y_batch = train_y[batch_mask]\n",
    "    grad4 = network4.gradient(x_batch, y_batch)\n",
    "    grad4_squared_W1 = (1 - decay_rate) * grad4['W1']**2 + decay_rate * grad4_squared_W1\n",
    "    network4.params['W1'] -= learning_rate * grad4['W1']/np.sqrt((epsilon + grad4_squared_W1))\n",
    "    grad4_squared_b1 = (1 - decay_rate) * grad4['b1']**2  + decay_rate * grad4_squared_b1\n",
    "    network4.params['b1'] -= learning_rate * grad4['b1']/np.sqrt((epsilon + grad4_squared_b1))\n",
    "    grad4_squared_W2 = (1 - decay_rate) * grad4['W2']**2 + decay_rate * grad4_squared_W2\n",
    "    network4.params['W2'] -= learning_rate * grad4['W2']/np.sqrt((epsilon + grad4_squared_W2))\n",
    "    grad4_squared_b2 = (1 - decay_rate) * grad4['b2']**2 + decay_rate * grad4_squared_b2\n",
    "    network4.params['b2'] -= learning_rate * grad4['b2']/np.sqrt((epsilon + grad4_squared_b2))\n",
    "    train_acc_rmsprop = network4.accuracy(train_x,train_y)\n",
    "    if Iter %25 ==0:\n",
    "        print(\"RMSPRop(Radnom Init), iteration:\",Iter,\"train_accuracy: %.3f\" % train_acc_rmsprop)\n",
    "\n",
    "    train_plot_data_rmsprop.append(train_acc_rmsprop)"
   ]
  },
  {
   "cell_type": "code",
   "execution_count": 17,
   "metadata": {},
   "outputs": [],
   "source": [
    "def acc_optim_plot3(data1,data2,data3):\n",
    "    line1, = plt.plot(data1,'yellow',label = 'AdaGrad')\n",
    "    line2, = plt.plot(data2,'green', label = 'RMSProp') # 记得加逗号，否则legend会找不到维度\n",
    "    line3, = plt.plot(data3,'red', label = 'Naive') # 记得加逗号，否则legend会找不到维度\n",
    "    plt.title('Performance: AdaGrad vs RMSProp vs Naive')\n",
    "    plt.legend(handles=[line1, line2, line3], labels=['AdaGrad','RMSProp','Naive'], loc='best')\n",
    "    plt.grid(linestyle='-.')\n",
    "    plt.xlabel('iteration')\n",
    "    plt.ylabel('Accuracy')\n",
    "    plt.show()"
   ]
  },
  {
   "cell_type": "code",
   "execution_count": 18,
   "metadata": {},
   "outputs": [
    {
     "data": {
      "image/png": "[encoded data removed]",
      "text/plain": [
       "<Figure size 432x288 with 1 Axes>"
      ]
     },
     "metadata": {
      "needs_background": "light"
     },
     "output_type": "display_data"
    }
   ],
   "source": [
    "acc_optim_plot3(train_plot_data_adagrad,train_plot_data_rmsprop,train_plot_data_random)"
   ]
  },
  {
   "cell_type": "markdown",
   "metadata": {},
   "source": [
    "RMSProp和AdaGrad在这个任务上的表现差不多（可能是因为数据集比较简单的缘故）"
   ]
  },
  {
   "cell_type": "markdown",
   "metadata": {},
   "source": [
    "### Adam Optimizer"
   ]
  },
  {
   "cell_type": "markdown",
   "metadata": {},
   "source": [
    "**接下来我们试一下Adam这个通用的优化器**\n",
    "\n",
    "Adam综合了momentum和AdaGrad的思路，主要实现算法如下所示"
   ]
  },
  {
   "cell_type": "markdown",
   "metadata": {},
   "source": [
    "While True:\n",
    "\n",
    "$g_{t} \\leftarrow \\nabla_{\\theta} f_{t}\\left(\\theta_{t-1}\\right)$ (Get gradients w.r.t. stochastic objective at timestep $\\left.t\\right)$ \n",
    "\n",
    "$m_{t} \\leftarrow \\beta_{1} \\cdot m_{t-1}+\\left(1-\\beta_{1}\\right) \\cdot g_{t}$ (Update biased first moment estimate)\n",
    "\n",
    "$v_{t} \\leftarrow \\beta_{2} \\cdot v_{t-1}+\\left(1-\\beta_{2}\\right) \\cdot g_{t}^{2}$ (Update biased second raw moment estimate) \n",
    "\n",
    "$\\widehat{m}_{t} \\leftarrow m_{t} /\\left(1-\\beta_{1}^{t}\\right)$ (Compute bias-corrected first moment estimate)\n",
    "\n",
    "$\\widehat{v}_{t} \\leftarrow v_{t} /\\left(1-\\beta_{2}^{t}\\right)($ Compute bias-corrected second raw moment estimate $)$\n",
    "\n",
    "$\\theta_{t} \\leftarrow \\theta_{t-1}-\\alpha \\cdot \\widehat{m}_{t} /\\left(\\sqrt{\\widehat{v}_{t}}+\\epsilon\\right)($ Update parameters $)$"
   ]
  },
  {
   "cell_type": "code",
   "execution_count": 19,
   "metadata": {},
   "outputs": [
    {
     "name": "stdout",
     "output_type": "stream",
     "text": [
      "Network5:\n",
      "Using Random Initialization\n",
      "Adam Optimizer\n",
      "Adam(Radnom Init), iteration: 0 train_accuracy: 0.096\n",
      "Adam(Radnom Init), iteration: 25 train_accuracy: 0.680\n",
      "Adam(Radnom Init), iteration: 50 train_accuracy: 0.794\n",
      "Adam(Radnom Init), iteration: 75 train_accuracy: 0.824\n",
      "Adam(Radnom Init), iteration: 100 train_accuracy: 0.842\n",
      "Adam(Radnom Init), iteration: 125 train_accuracy: 0.852\n",
      "Adam(Radnom Init), iteration: 150 train_accuracy: 0.870\n",
      "Adam(Radnom Init), iteration: 175 train_accuracy: 0.874\n",
      "Adam(Radnom Init), iteration: 200 train_accuracy: 0.877\n",
      "Adam(Radnom Init), iteration: 225 train_accuracy: 0.888\n",
      "Adam(Radnom Init), iteration: 250 train_accuracy: 0.891\n"
     ]
    }
   ],
   "source": [
    "# 我们建立第六个神经网络，用于测试Adam算法的性能\n",
    "print('Network5:')\n",
    "network5 = Two_Layers_Net(input_size=784, hidden_size=30, output_size=10, msra= False, Xavier = False)\n",
    "beta1 = 0.9\n",
    "beta2 = 0.9\n",
    "epsilon = 1e-7\n",
    "train_plot_data_adam = []\n",
    "learning_rate = 0.01\n",
    "print('Adam Optimizer')\n",
    "\n",
    "# 用一个列表，分别代表一节动量和二阶动量\n",
    "Moment_W1 = [0,0]\n",
    "Moment_W2 = [0,0]\n",
    "Moment_b1 = [0,0]\n",
    "Moment_b2 = [0,0]\n",
    " \n",
    "# 这个地方Adam不使用无偏估计反而比无偏估计的表现要好...\n",
    "\n",
    "for Iter in range(iteration+1):\n",
    "    batch_mask = np.random.choice(training_set_size, batch_size) # 随机选择\n",
    "    x_batch = train_x[batch_mask]\n",
    "    y_batch = train_y[batch_mask]\n",
    "    grad5 = network5.gradient(x_batch, y_batch)\n",
    "    \n",
    "    Moment_W1[0] = beta1 * Moment_W1[0] + (1-beta1) * grad5['W1'] \n",
    "    Moment_W1[1] = beta2 * Moment_W1[1] + (1-beta2) * grad5['W1']**2 \n",
    "    W1_First_Moment_Unbias = Moment_W1[0]/((1-beta1**Iter)+epsilon)\n",
    "    W1_Second_Moment_Unbias = Moment_W1[1]/((1-beta2**Iter)+epsilon)\n",
    "    network5.params['W1'] -= learning_rate * Moment_W1[0]/(np.sqrt(Moment_W1[1])+epsilon)\n",
    "    network5.params['W1'] -= learning_rate * grad5['W1']\n",
    "    \n",
    "    Moment_W2[0] = beta1 * Moment_W2[0] + (1-beta1) * grad5['W2'] \n",
    "    Moment_W2[1] = beta2 * Moment_W2[1] + (1-beta2) * grad5['W2']**2 \n",
    "    W2_First_Moment_Unbias = Moment_W2[0]/((1-beta1**Iter)+epsilon)\n",
    "    W2_Second_Moment_Unbias = Moment_W2[1]/((1-beta2**Iter)+epsilon)\n",
    "    network5.params['W2'] -= learning_rate * Moment_W2[0]/(np.sqrt(Moment_W2[1])+epsilon)\n",
    "    \n",
    "    network5.params['b1'] -= learning_rate * grad5['b1']\n",
    "    Moment_b1[0] = beta1 * Moment_b1[0] + (1-beta1) * grad5['b1'] \n",
    "    Moment_b1[1] = beta2 * Moment_b1[1] + (1-beta2) * grad5['b1']**2 \n",
    "    b1_First_Moment_Unbias = Moment_b1[0]/((1-beta1**Iter)+epsilon)\n",
    "    b1_Second_Moment_Unbias = Moment_b1[1]/((1-beta2**Iter)+epsilon)\n",
    "    network5.params['b1'] -= learning_rate * Moment_b1[0]/(np.sqrt(Moment_b1[1])+epsilon)\n",
    "    \n",
    "    Moment_b2[0] = beta1 * Moment_b2[0] + (1-beta1) * grad5['b2'] \n",
    "    Moment_b2[1] = beta2 * Moment_b2[1] + (1-beta2) * grad5['b2']**2 \n",
    "    b2_First_Moment_Unbias = Moment_b2[0]/((1-beta1**Iter)+epsilon)\n",
    "    b2_Second_Moment_Unbias = Moment_b2[1]/((1-beta2**Iter)+epsilon)\n",
    "    network5.params['b2'] -= learning_rate * Moment_b2[0]/(np.sqrt(Moment_b2[1])+epsilon)\n",
    "\n",
    "    train_acc_adam = network5.accuracy(train_x,train_y)\n",
    "    if Iter %25 ==0:\n",
    "        print(\"Adam(Radnom Init), iteration:\",Iter,\"train_accuracy: %.3f\" % train_acc_adam)\n",
    "\n",
    "    train_plot_data_adam.append(train_acc_adam)"
   ]
  },
  {
   "cell_type": "code",
   "execution_count": 20,
   "metadata": {},
   "outputs": [],
   "source": [
    "def acc_optim_plot4(data1,data2,data3,data4):\n",
    "    line1, = plt.plot(data1,'yellow',label = 'AdaGrad')\n",
    "    line2, = plt.plot(data2,'green', label = 'RMSProp') # 记得加逗号，否则legend会找不到维度\n",
    "    line3, = plt.plot(data3,'red', label = 'Naive') # 记得加逗号，否则legend会找不到维度\n",
    "    line4, = plt.plot(data4,'blue', label = 'Adam') # 记得加逗号，否则legend会找不到维度\n",
    "    plt.title('Performance: AdaGrad vs RMSProp vs Adam vs Naive')\n",
    "    plt.legend(handles=[line1, line2, line3, line4], labels=['AdaGrad','RMSProp','Naive','Adam'], loc='best')\n",
    "    plt.grid(linestyle='-.')\n",
    "    plt.xlabel('iteration')\n",
    "    plt.ylabel('Accuracy')\n",
    "    plt.show()"
   ]
  },
  {
   "cell_type": "code",
   "execution_count": 21,
   "metadata": {},
   "outputs": [
    {
     "data": {
      "image/png": "[encoded data removed]",
      "text/plain": [
       "<Figure size 432x288 with 1 Axes>"
      ]
     },
     "metadata": {
      "needs_background": "light"
     },
     "output_type": "display_data"
    }
   ],
   "source": [
    "acc_optim_plot4(train_plot_data_adagrad,train_plot_data_rmsprop,train_plot_data_random,train_plot_data_adam)"
   ]
  },
  {
   "cell_type": "markdown",
   "metadata": {},
   "source": [
    "我们发现，使用优化器方法的算法明显比Naive的梯度下降法好，而**Adam相比AdaGrad和RMSProp收敛的更加快一些**，最终都能在仅250轮训练的情况下获得90%的准确率，不过明显能感到Adam的计算更加费时间"
   ]
  },
  {
   "cell_type": "markdown",
   "metadata": {},
   "source": [
    "最后，我们选择Kaiming初始化方法+RMSProp优化器训练这个模型，为了在尽可能小的训练轮次获得比较好的拟合情况，我们采用**学习率衰减**的方法来帮助收敛"
   ]
  },
  {
   "cell_type": "markdown",
   "metadata": {},
   "source": [
    "最后再加入正则化项防止过拟合，其作用表现在反向传播的梯度之中，直接在反向传播的过程中实现\n",
    "\n",
    "\n",
    "$$J(w, b)=\\frac{1}{m} \\sum_{i=1}^{m} L\\left(\\hat{y}^{(i)}, y^{(i)}\\right)+\\frac{\\lambda}{2 m}\\|w\\|_{2}^{2}$$"
   ]
  },
  {
   "cell_type": "markdown",
   "metadata": {},
   "source": [
    "不难发现，对后者求导后即直接基于权重参数和正则化强度进行更新"
   ]
  },
  {
   "cell_type": "markdown",
   "metadata": {},
   "source": [
    "### 学习率衰减与正则化"
   ]
  },
  {
   "cell_type": "markdown",
   "metadata": {},
   "source": [
    "我们建立最后一个个神经网络，用于最后的测试"
   ]
  },
  {
   "cell_type": "code",
   "execution_count": 22,
   "metadata": {},
   "outputs": [
    {
     "name": "stdout",
     "output_type": "stream",
     "text": [
      "Network:\n",
      "Using MSRA/Kaiming Initialization\n"
     ]
    }
   ],
   "source": [
    "print('The Last Network:')\n",
    "network = Two_Layers_Net(input_size=784, hidden_size=30, output_size=10, msra= True, Xavier = False)\n",
    "decay_rate = 0.97 # 学习率衰减\n",
    "learning_rate = 0.1 # 学习率\n",
    "epsilon = 1e-7 # 防止除0\n",
    "batch_size = 256 # 批次大小\n",
    "alpha = 0.08 # 正则化强度 \n",
    "Iter_time = 5000 # 多训练几次让网络充分拟合\n",
    "train_plot_data_rmsprop_kaiming = [] # 可以用来画图"
   ]
  },
  {
   "cell_type": "code",
   "execution_count": 24,
   "metadata": {},
   "outputs": [
    {
     "name": "stdout",
     "output_type": "stream",
     "text": [
      "RMSProp + Adam\n",
      "RMSPRop(Kaiming Init), iteration: 0 train_accuracy: 0.6477\n",
      "RMSPRop(Kaiming Init), iteration: 500 train_accuracy: 0.9627\n",
      "RMSPRop(Kaiming Init), iteration: 1000 train_accuracy: 0.9655\n",
      "RMSPRop(Kaiming Init), iteration: 1500 train_accuracy: 0.9537\n",
      "RMSPRop(Kaiming Init), iteration: 2000 train_accuracy: 0.9686\n",
      "RMSPRop(Kaiming Init), iteration: 2500 train_accuracy: 0.9720\n",
      "RMSPRop(Kaiming Init), iteration: 3000 train_accuracy: 0.9683\n",
      "RMSPRop(Kaiming Init), iteration: 3500 train_accuracy: 0.9764\n",
      "RMSPRop(Kaiming Init), iteration: 4000 train_accuracy: 0.9734\n",
      "RMSPRop(Kaiming Init), iteration: 4500 train_accuracy: 0.9781\n",
      "RMSPRop(Kaiming Init), iteration: 5000 train_accuracy: 0.9735\n"
     ]
    }
   ],
   "source": [
    "print('RMSProp + Adam')\n",
    "grad_squared_W1 = grad_squared_b1 = grad_squared_W2 = grad_squared_b2 = 0\n",
    "for Iter in range(Iter_time+1):\n",
    "    batch_mask = np.random.choice(training_set_size, batch_size) # 随机选择\n",
    "    x_batch = train_x[batch_mask]\n",
    "    y_batch = train_y[batch_mask]\n",
    "    grad = network.gradient(x_batch, y_batch)\n",
    "    grad_squared_W1 = (1 - decay_rate) * grad['W1']**2 + decay_rate * grad_squared_W1\n",
    "    network.params['W1'] -= learning_rate * grad['W1']/np.sqrt((epsilon + grad_squared_W1)) + alpha/batch_size*grad['W1']\n",
    "    grad_squared_b1 = (1 - decay_rate) * grad['b1']**2  + decay_rate * grad_squared_b1\n",
    "    network.params['b1'] -= learning_rate * grad['b1']/np.sqrt((epsilon + grad_squared_b1)) + alpha/batch_size*grad['b1']\n",
    "    grad_squared_W2 = (1 - decay_rate) * grad['W2']**2 + decay_rate * grad_squared_W2\n",
    "    network.params['W2'] -= learning_rate * grad['W2']/np.sqrt((epsilon + grad_squared_W2)) + alpha/batch_size*grad['W2']\n",
    "    grad_squared_b2 = (1 - decay_rate) * grad['b2']**2 + decay_rate * grad_squared_b2\n",
    "    network.params['b2'] -= learning_rate * grad['b2']/np.sqrt((epsilon + grad_squared_b2)) + alpha/batch_size*grad['b2']\n",
    "    train_acc_rmsprop_kaiming = network.accuracy(train_x,train_y)\n",
    "    if Iter % 500 == 0:\n",
    "        learning_rate *= decay_rate\n",
    "        print(\"RMSPRop(Kaiming Init), iteration:\",Iter,\"train_accuracy: %.4f\" % train_acc_rmsprop_kaiming)\n",
    "\n",
    "    train_plot_data_rmsprop_kaiming.append(train_acc_rmsprop_kaiming)"
   ]
  },
  {
   "cell_type": "markdown",
   "metadata": {},
   "source": [
    "训练结束，如果不加入正则化项的话可以达到99%+（但是过拟合了就没用了），加入正则化项大约能收敛于正确率 97%-98%"
   ]
  }
 ],
 "metadata": {
  "kernelspec": {
   "display_name": "Python 3",
   "language": "python",
   "name": "python3"
  },
  "language_info": {
   "codemirror_mode": {
    "name": "ipython",
    "version": 3
   },
   "file_extension": ".py",
   "mimetype": "text/x-python",
   "name": "python",
   "nbconvert_exporter": "python",
   "pygments_lexer": "ipython3",
   "version": "3.8.5"
  }
 },
 "nbformat": 4,
 "nbformat_minor": 4
}
